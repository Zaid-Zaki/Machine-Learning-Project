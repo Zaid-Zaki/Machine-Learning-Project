{
 "cells": [
  {
   "cell_type": "code",
   "execution_count": 1,
   "id": "ebacd3d3",
   "metadata": {},
   "outputs": [],
   "source": [
    "import pandas as pd\n",
    "import numpy as np\n",
    "from sklearn.feature_extraction.text import CountVectorizer\n",
    "from sklearn.model_selection import train_test_split\n",
    "from sklearn.tree import DecisionTreeClassifier\n",
    "import string\n",
    "import pickle\n",
    "from sklearn.preprocessing import LabelEncoder\n",
    "from sklearn.model_selection import train_test_split\n",
    "import torch"
   ]
  },
  {
   "cell_type": "code",
   "execution_count": 2,
   "id": "123e72fe",
   "metadata": {},
   "outputs": [
    {
     "data": {
      "text/plain": [
       "\"!!! RT @mayasolovely: As a woman you shouldn't complain about cleaning up your house. &amp; as a man you should always take the trash out...\""
      ]
     },
     "execution_count": 2,
     "metadata": {},
     "output_type": "execute_result"
    }
   ],
   "source": [
    "twitter_df=pd.read_csv(\"twitter.csv\")\n",
    "twitter_df[\"labels\"] = twitter_df[\"class\"].map({0: \"Hate Speech\", 1: \"Offensive Language\", 2: \"No Hate and Offensive\"})\n",
    "twitter_df = twitter_df[[\"tweet\", \"labels\"]]\n",
    "twitter_df[\"tweet\"][0]"
   ]
  },
  {
   "cell_type": "code",
   "execution_count": 3,
   "id": "4e3398de",
   "metadata": {},
   "outputs": [
    {
     "data": {
      "text/plain": [
       "array(['No Hate and Offensive', 'Offensive Language', 'Hate Speech'],\n",
       "      dtype=object)"
      ]
     },
     "execution_count": 3,
     "metadata": {},
     "output_type": "execute_result"
    }
   ],
   "source": [
    "twitter_df[\"labels\"].unique()"
   ]
  },
  {
   "cell_type": "code",
   "execution_count": null,
   "id": "ec77962a",
   "metadata": {},
   "outputs": [],
   "source": []
  },
  {
   "cell_type": "markdown",
   "id": "16a5172c",
   "metadata": {},
   "source": [
    "# Statistical features"
   ]
  },
  {
   "cell_type": "markdown",
   "id": "89d1413b",
   "metadata": {},
   "source": [
    "# Number of unique words , Average sentence length and noun, adjective and verb counts"
   ]
  },
  {
   "cell_type": "code",
   "execution_count": 4,
   "id": "a1c15e51",
   "metadata": {},
   "outputs": [
    {
     "name": "stdout",
     "output_type": "stream",
     "text": [
      "Number of unique words: 59006\n"
     ]
    }
   ],
   "source": [
    "tweets=twitter_df[\"tweet\"]\n",
    "all_tweets_text = ' '.join(tweets)\n",
    "words = all_tweets_text.split()\n",
    "unique_words = set(words)\n",
    "num_unique_words = len(unique_words)\n",
    "print(\"Number of unique words:\", num_unique_words)"
   ]
  },
  {
   "cell_type": "code",
   "execution_count": 5,
   "id": "6667c19d",
   "metadata": {},
   "outputs": [
    {
     "name": "stdout",
     "output_type": "stream",
     "text": [
      "Average sentence length: 33.43659971596673\n"
     ]
    }
   ],
   "source": [
    "import nltk\n",
    "all_tweets_text = ' '.join(tweets)\n",
    "sentences = nltk.sent_tokenize(all_tweets_text)\n",
    "total_words = sum(len(nltk.word_tokenize(sentence)) for sentence in sentences)\n",
    "average_sentence_length = total_words / len(sentences)\n",
    "print(\"Average sentence length:\", average_sentence_length)"
   ]
  },
  {
   "cell_type": "code",
   "execution_count": 6,
   "id": "051d77de",
   "metadata": {},
   "outputs": [
    {
     "name": "stderr",
     "output_type": "stream",
     "text": [
      "\n",
      "KeyboardInterrupt\n",
      "\n"
     ]
    }
   ],
   "source": [
    "from textblob import TextBlob\n",
    "from collections import Counter\n",
    "all_tweets_text = ' '.join(tweets)\n",
    "blob = TextBlob(all_tweets_text)\n",
    "noun_counts = Counter()\n",
    "verb_counts = Counter()\n",
    "adjective_counts = Counter()\n",
    "\n",
    "for word, pos in blob.tags:\n",
    "    if pos == 'NN':  \n",
    "        noun_counts[word] += 1\n",
    "    elif pos == 'VB':  \n",
    "        verb_counts[word] += 1\n",
    "    elif pos == 'JJ':  \n",
    "        adjective_counts[word] += 1\n",
    "\n",
    "\n",
    "print(\"Nouns:\", noun_counts)\n",
    "print(\"Verbs:\", verb_counts)\n",
    "print(\"Adjectives:\", adjective_counts)"
   ]
  },
  {
   "cell_type": "code",
   "execution_count": null,
   "id": "8940006d",
   "metadata": {},
   "outputs": [],
   "source": [
    "noun_df = pd.DataFrame(noun_counts.items(), columns=['Noun', 'Count'])\n",
    "verb_df = pd.DataFrame(verb_counts.items(), columns=['Verb', 'Count'])\n",
    "adjective_df = pd.DataFrame(adjective_counts.items(), columns=['Adjective', 'Count'])"
   ]
  },
  {
   "cell_type": "code",
   "execution_count": null,
   "id": "13916159",
   "metadata": {},
   "outputs": [],
   "source": [
    "noun_df"
   ]
  },
  {
   "cell_type": "code",
   "execution_count": null,
   "id": "5882c072",
   "metadata": {},
   "outputs": [],
   "source": [
    "verb_df"
   ]
  },
  {
   "cell_type": "code",
   "execution_count": null,
   "id": "8c6bf2d5",
   "metadata": {},
   "outputs": [],
   "source": [
    "adjective_df"
   ]
  },
  {
   "cell_type": "markdown",
   "id": "7126d3ea",
   "metadata": {},
   "source": [
    "# bert model "
   ]
  },
  {
   "cell_type": "code",
   "execution_count": null,
   "id": "6931bf66",
   "metadata": {},
   "outputs": [],
   "source": [
    "if torch.cuda.is_available():\n",
    "    device = torch.device(\"cuda\")\n",
    "else:\n",
    "    device = torch.device(\"cpu\")\n",
    "model_name = \"bert-base-uncased\"\n",
    "tokenizer = BertTokenizer.from_pretrained(model_name)\n",
    "model = BertModel.from_pretrained(model_name).to(device)\n",
    "def tokenize_text(text):\n",
    "    inputs = tokenizer(text, return_tensors='pt', padding=True, truncation=True, max_length=64).to(device)\n",
    "    with torch.no_grad():\n",
    "        outputs = model(**inputs)\n",
    "    embeddings = outputs.last_hidden_state.mean(dim=1)\n",
    "    return embeddings"
   ]
  },
  {
   "cell_type": "code",
   "execution_count": 47,
   "id": "d037ddcf",
   "metadata": {},
   "outputs": [],
   "source": [
    "twitter_df['embeddings'] = twitter_df['tweet'].apply(tokenize_text)"
   ]
  },
  {
   "cell_type": "code",
   "execution_count": 50,
   "id": "faffb444",
   "metadata": {},
   "outputs": [],
   "source": [
    "with open('embeddings.pkl', 'wb') as file:\n",
    "    pickle.dump(twitter_df['embeddings'], file)"
   ]
  },
  {
   "cell_type": "code",
   "execution_count": 7,
   "id": "aeaf0fc9",
   "metadata": {},
   "outputs": [],
   "source": [
    "import pickle\n",
    "with open('embeddings.pkl', 'rb') as file:\n",
    "    loaded_embeddings = pickle.load(file)"
   ]
  },
  {
   "cell_type": "code",
   "execution_count": 8,
   "id": "f32beea5",
   "metadata": {},
   "outputs": [],
   "source": [
    "twitter_df['embeddings']=loaded_embeddings"
   ]
  },
  {
   "cell_type": "code",
   "execution_count": 9,
   "id": "10696a11",
   "metadata": {},
   "outputs": [],
   "source": [
    "label_encoder = LabelEncoder()\n",
    "encoded_labels = label_encoder.fit_transform(twitter_df[\"labels\"])\n",
    "twitter_df[\"labels_encoded\"] = encoded_labels"
   ]
  },
  {
   "cell_type": "code",
   "execution_count": 10,
   "id": "2568ae9c",
   "metadata": {},
   "outputs": [
    {
     "data": {
      "text/html": [
       "<div>\n",
       "<style scoped>\n",
       "    .dataframe tbody tr th:only-of-type {\n",
       "        vertical-align: middle;\n",
       "    }\n",
       "\n",
       "    .dataframe tbody tr th {\n",
       "        vertical-align: top;\n",
       "    }\n",
       "\n",
       "    .dataframe thead th {\n",
       "        text-align: right;\n",
       "    }\n",
       "</style>\n",
       "<table border=\"1\" class=\"dataframe\">\n",
       "  <thead>\n",
       "    <tr style=\"text-align: right;\">\n",
       "      <th></th>\n",
       "      <th>embeddings</th>\n",
       "      <th>labels_encoded</th>\n",
       "    </tr>\n",
       "  </thead>\n",
       "  <tbody>\n",
       "    <tr>\n",
       "      <th>0</th>\n",
       "      <td>[[tensor(0.2095), tensor(0.2316), tensor(0.492...</td>\n",
       "      <td>1</td>\n",
       "    </tr>\n",
       "    <tr>\n",
       "      <th>1</th>\n",
       "      <td>[[tensor(-0.0849), tensor(0.0519), tensor(0.68...</td>\n",
       "      <td>2</td>\n",
       "    </tr>\n",
       "    <tr>\n",
       "      <th>2</th>\n",
       "      <td>[[tensor(0.3709), tensor(0.3706), tensor(0.621...</td>\n",
       "      <td>2</td>\n",
       "    </tr>\n",
       "    <tr>\n",
       "      <th>3</th>\n",
       "      <td>[[tensor(0.4781), tensor(0.0631), tensor(0.642...</td>\n",
       "      <td>2</td>\n",
       "    </tr>\n",
       "    <tr>\n",
       "      <th>4</th>\n",
       "      <td>[[tensor(0.3976), tensor(0.1870), tensor(0.605...</td>\n",
       "      <td>2</td>\n",
       "    </tr>\n",
       "    <tr>\n",
       "      <th>...</th>\n",
       "      <td>...</td>\n",
       "      <td>...</td>\n",
       "    </tr>\n",
       "    <tr>\n",
       "      <th>24778</th>\n",
       "      <td>[[tensor(0.4247), tensor(0.2765), tensor(0.517...</td>\n",
       "      <td>2</td>\n",
       "    </tr>\n",
       "    <tr>\n",
       "      <th>24779</th>\n",
       "      <td>[[tensor(0.2655), tensor(-0.0583), tensor(-0.1...</td>\n",
       "      <td>1</td>\n",
       "    </tr>\n",
       "    <tr>\n",
       "      <th>24780</th>\n",
       "      <td>[[tensor(0.0799), tensor(0.1272), tensor(0.783...</td>\n",
       "      <td>2</td>\n",
       "    </tr>\n",
       "    <tr>\n",
       "      <th>24781</th>\n",
       "      <td>[[tensor(0.4994), tensor(0.4589), tensor(0.205...</td>\n",
       "      <td>2</td>\n",
       "    </tr>\n",
       "    <tr>\n",
       "      <th>24782</th>\n",
       "      <td>[[tensor(0.0277), tensor(-0.1341), tensor(0.54...</td>\n",
       "      <td>1</td>\n",
       "    </tr>\n",
       "  </tbody>\n",
       "</table>\n",
       "<p>24783 rows × 2 columns</p>\n",
       "</div>"
      ],
      "text/plain": [
       "                                              embeddings  labels_encoded\n",
       "0      [[tensor(0.2095), tensor(0.2316), tensor(0.492...               1\n",
       "1      [[tensor(-0.0849), tensor(0.0519), tensor(0.68...               2\n",
       "2      [[tensor(0.3709), tensor(0.3706), tensor(0.621...               2\n",
       "3      [[tensor(0.4781), tensor(0.0631), tensor(0.642...               2\n",
       "4      [[tensor(0.3976), tensor(0.1870), tensor(0.605...               2\n",
       "...                                                  ...             ...\n",
       "24778  [[tensor(0.4247), tensor(0.2765), tensor(0.517...               2\n",
       "24779  [[tensor(0.2655), tensor(-0.0583), tensor(-0.1...               1\n",
       "24780  [[tensor(0.0799), tensor(0.1272), tensor(0.783...               2\n",
       "24781  [[tensor(0.4994), tensor(0.4589), tensor(0.205...               2\n",
       "24782  [[tensor(0.0277), tensor(-0.1341), tensor(0.54...               1\n",
       "\n",
       "[24783 rows x 2 columns]"
      ]
     },
     "execution_count": 10,
     "metadata": {},
     "output_type": "execute_result"
    }
   ],
   "source": [
    "twitter_df\n",
    "columns_to_show = [\"embeddings\", \"labels_encoded\"]\n",
    "twitter_df[columns_to_show]"
   ]
  },
  {
   "cell_type": "code",
   "execution_count": 12,
   "id": "72319b1a",
   "metadata": {},
   "outputs": [],
   "source": [
    "X = twitter_df['embeddings'] \n",
    "empty=[]\n",
    "for i in X:\n",
    "    empty.append(i)\n",
    "    \n",
    "X=torch.concat(empty)\n",
    "y = twitter_df['labels_encoded'] \n",
    "y=torch.tensor([i for i in y])\n",
    "\n",
    "X_train, X_test, y_train, y_test = train_test_split(X, y, test_size=0.1, random_state=43)"
   ]
  },
  {
   "cell_type": "code",
   "execution_count": 13,
   "id": "c07f057d",
   "metadata": {},
   "outputs": [
    {
     "name": "stderr",
     "output_type": "stream",
     "text": [
      "C:\\Users\\HP\\AppData\\Local\\Temp\\ipykernel_1972\\3792690778.py:2: UserWarning: To copy construct from a tensor, it is recommended to use sourceTensor.clone().detach() or sourceTensor.clone().detach().requires_grad_(True), rather than torch.tensor(sourceTensor).\n",
      "  X_train = torch.tensor(X_train, dtype=torch.float32)\n",
      "C:\\Users\\HP\\AppData\\Local\\Temp\\ipykernel_1972\\3792690778.py:3: UserWarning: To copy construct from a tensor, it is recommended to use sourceTensor.clone().detach() or sourceTensor.clone().detach().requires_grad_(True), rather than torch.tensor(sourceTensor).\n",
      "  X_test = torch.tensor(X_test, dtype=torch.float32)\n",
      "C:\\Users\\HP\\AppData\\Local\\Temp\\ipykernel_1972\\3792690778.py:4: UserWarning: To copy construct from a tensor, it is recommended to use sourceTensor.clone().detach() or sourceTensor.clone().detach().requires_grad_(True), rather than torch.tensor(sourceTensor).\n",
      "  y_train = torch.tensor(y_train, dtype=torch.int64)\n",
      "C:\\Users\\HP\\AppData\\Local\\Temp\\ipykernel_1972\\3792690778.py:5: UserWarning: To copy construct from a tensor, it is recommended to use sourceTensor.clone().detach() or sourceTensor.clone().detach().requires_grad_(True), rather than torch.tensor(sourceTensor).\n",
      "  y_test = torch.tensor(y_test, dtype=torch.int64)\n"
     ]
    }
   ],
   "source": [
    "import tensorflow as tf\n",
    "X_train = torch.tensor(X_train, dtype=torch.float32)\n",
    "X_test = torch.tensor(X_test, dtype=torch.float32)\n",
    "y_train = torch.tensor(y_train, dtype=torch.int64) \n",
    "y_test = torch.tensor(y_test, dtype=torch.int64)"
   ]
  },
  {
   "cell_type": "code",
   "execution_count": 14,
   "id": "189515c2",
   "metadata": {},
   "outputs": [
    {
     "name": "stdout",
     "output_type": "stream",
     "text": [
      "torch.Size([22304, 768])\n",
      "torch.Size([2479, 768])\n",
      "torch.Size([22304])\n",
      "torch.Size([2479])\n"
     ]
    }
   ],
   "source": [
    "print(X_train.shape)\n",
    "print(X_test.shape)\n",
    "print(y_train.shape)\n",
    "print(y_test.shape)"
   ]
  },
  {
   "cell_type": "code",
   "execution_count": 15,
   "id": "a2671b05",
   "metadata": {},
   "outputs": [
    {
     "name": "stdout",
     "output_type": "stream",
     "text": [
      "RNNModel(\n",
      "  (rnn1): RNN(768, 64, batch_first=True)\n",
      "  (rnn2): RNN(64, 32, batch_first=True)\n",
      "  (fc): Linear(in_features=32, out_features=3, bias=True)\n",
      ")\n"
     ]
    }
   ],
   "source": [
    "import torch\n",
    "import torch.nn as nn\n",
    "\n",
    "class RNNModel(nn.Module):\n",
    "    def __init__(self, input_size, hidden_size1, hidden_size2, output_size):\n",
    "        super(RNNModel, self).__init__()\n",
    "        self.rnn1 = nn.RNN(input_size, hidden_size1, batch_first=True)\n",
    "        self.rnn2 = nn.RNN(hidden_size1, hidden_size2, batch_first=True)\n",
    "        self.fc = nn.Linear(hidden_size2, output_size)\n",
    "\n",
    "    def forward(self, x):\n",
    "        out, hidden1 = self.rnn1(x)\n",
    "        out, hidden2 = self.rnn2(out)\n",
    "        \n",
    "        out = self.fc(out)\n",
    "        return out\n",
    "\n",
    "input_size = 768\n",
    "output_size = 3\n",
    "model = RNNModel(input_size, 64, 32, output_size)\n",
    "print(model)\n"
   ]
  },
  {
   "cell_type": "code",
   "execution_count": 16,
   "id": "fac269cf",
   "metadata": {},
   "outputs": [],
   "source": [
    "from torch.utils.data import TensorDataset, DataLoader\n",
    "train_dataset = TensorDataset(X_train, y_train)\n",
    "batch_size = 64\n",
    "train_loader = DataLoader(dataset=train_dataset, batch_size=batch_size, shuffle=True)\n",
    "test_dataset = TensorDataset(X_test, y_test)\n",
    "test_loader = DataLoader(dataset=test_dataset, batch_size=batch_size, shuffle=False)"
   ]
  },
  {
   "cell_type": "code",
   "execution_count": 17,
   "id": "55d67eef",
   "metadata": {},
   "outputs": [
    {
     "name": "stdout",
     "output_type": "stream",
     "text": [
      "Epoch [1/10], Loss: 0.8760, Training Accuracy: 58.51%, Testing Accuracy: 77.49%, Epoch Time: 13.7804 seconds\n",
      "Epoch [2/10], Loss: 0.6779, Training Accuracy: 77.43%, Testing Accuracy: 77.49%, Epoch Time: 11.5892 seconds\n",
      "Epoch [3/10], Loss: 0.6476, Training Accuracy: 77.43%, Testing Accuracy: 77.49%, Epoch Time: 11.7149 seconds\n",
      "Epoch [4/10], Loss: 0.6312, Training Accuracy: 77.43%, Testing Accuracy: 77.49%, Epoch Time: 11.5460 seconds\n",
      "Epoch [5/10], Loss: 0.6129, Training Accuracy: 77.43%, Testing Accuracy: 77.49%, Epoch Time: 11.6717 seconds\n",
      "Epoch [6/10], Loss: 0.5928, Training Accuracy: 77.43%, Testing Accuracy: 77.49%, Epoch Time: 12.2839 seconds\n",
      "Epoch [7/10], Loss: 0.5741, Training Accuracy: 77.59%, Testing Accuracy: 77.73%, Epoch Time: 12.6111 seconds\n",
      "Epoch [8/10], Loss: 0.5550, Training Accuracy: 78.37%, Testing Accuracy: 78.58%, Epoch Time: 12.6304 seconds\n",
      "Epoch [9/10], Loss: 0.5374, Training Accuracy: 79.94%, Testing Accuracy: 80.19%, Epoch Time: 12.1881 seconds\n",
      "Epoch [10/10], Loss: 0.5208, Training Accuracy: 81.25%, Testing Accuracy: 82.25%, Epoch Time: 12.5158 seconds\n",
      "Training complete.\n"
     ]
    }
   ],
   "source": [
    "import torch.optim as optim\n",
    "import torch.nn as nn\n",
    "import time\n",
    "\n",
    "num_epochs = 10\n",
    "criterion = nn.CrossEntropyLoss()\n",
    "optimizer = optim.Adam(model.parameters(), lr=0.00001)\n",
    "train_accuracies = []\n",
    "test_accuracies = []\n",
    "\n",
    "epoch_execution_times = []  \n",
    "\n",
    "for epoch in range(num_epochs):\n",
    "    start_time = time.time()  \n",
    "\n",
    "    model.train()\n",
    "    total_loss = 0\n",
    "    correct_train = 0\n",
    "    total_train = 0\n",
    "\n",
    "    for batch_x, batch_y in train_loader:\n",
    "        optimizer.zero_grad()  \n",
    "        output = model(batch_x) \n",
    "        loss = criterion(output, batch_y)  \n",
    "        loss.backward()  \n",
    "        optimizer.step()  \n",
    "\n",
    "        total_loss += loss.item()\n",
    "\n",
    "        _, predicted_train = torch.max(output.data, 1)\n",
    "        total_train += batch_y.size(0)\n",
    "        correct_train += (predicted_train == batch_y).sum().item()\n",
    "\n",
    "    average_loss = total_loss / len(train_loader)\n",
    "    training_accuracy = correct_train / total_train\n",
    "    \n",
    "    model.eval()  \n",
    "    correct_test = 0\n",
    "    total_test = 0\n",
    "\n",
    "    with torch.no_grad():\n",
    "        for batch_x, batch_y in test_loader:\n",
    "            output = model(batch_x)\n",
    "            _, predicted_test = torch.max(output.data, 1)\n",
    "            total_test += batch_y.size(0)\n",
    "            correct_test += (predicted_test == batch_y).sum().item()\n",
    "\n",
    "    testing_accuracy = correct_test / total_test\n",
    "\n",
    "    train_accuracies.append(training_accuracy)\n",
    "    test_accuracies.append(testing_accuracy)\n",
    "\n",
    "    end_time = time.time()  \n",
    "    epoch_execution_time = end_time - start_time\n",
    "    epoch_execution_times.append(epoch_execution_time)  \n",
    "\n",
    "    print(f'Epoch [{epoch + 1}/{num_epochs}], Loss: {average_loss:.4f}, Training Accuracy: {training_accuracy * 100:.2f}%, Testing Accuracy: {testing_accuracy * 100:.2f}%, Epoch Time: {epoch_execution_time:.4f} seconds')\n",
    "\n",
    "print('Training complete.')"
   ]
  },
  {
   "cell_type": "code",
   "execution_count": 18,
   "id": "634aadc7",
   "metadata": {},
   "outputs": [
    {
     "data": {
      "image/png": "[encoded data removed]",
      "text/plain": [
       "<Figure size 432x288 with 1 Axes>"
      ]
     },
     "metadata": {
      "needs_background": "light"
     },
     "output_type": "display_data"
    }
   ],
   "source": [
    "import matplotlib.pyplot as plt\n",
    "epochs_list = range(1, num_epochs + 1)\n",
    "plt.plot(epochs_list, train_accuracies, marker='o', linestyle='-', label='Training Accuracy')\n",
    "plt.plot(epochs_list, test_accuracies, marker='s', linestyle='-', label='Testing Accuracy')\n",
    "plt.xlabel('Epochs')\n",
    "plt.ylabel('Accuracy')\n",
    "plt.title('Training and Testing Accuracy Trends')\n",
    "plt.legend()\n",
    "plt.show()"
   ]
  },
  {
   "cell_type": "code",
   "execution_count": 23,
   "id": "45fece51",
   "metadata": {},
   "outputs": [
    {
     "data": {
      "image/png": "[encoded data removed]",
      "text/plain": [
       "<Figure size 576x432 with 2 Axes>"
      ]
     },
     "metadata": {
      "needs_background": "light"
     },
     "output_type": "display_data"
    },
    {
     "data": {
      "image/png": "[encoded data removed]",
      "text/plain": [
       "<Figure size 576x432 with 2 Axes>"
      ]
     },
     "metadata": {
      "needs_background": "light"
     },
     "output_type": "display_data"
    }
   ],
   "source": [
    "from sklearn.metrics import confusion_matrix\n",
    "import seaborn as sns\n",
    "import matplotlib.pyplot as plt\n",
    "import numpy as np\n",
    "def plot_confusion_matrix(matrix, classes, title):\n",
    "    plt.figure(figsize=(8, 6))\n",
    "    sns.heatmap(matrix, annot=True, fmt='d', cmap='Blues', xticklabels=classes, yticklabels=classes)\n",
    "    plt.title(title)\n",
    "    plt.xlabel('Predicted Label')\n",
    "    plt.ylabel('True Label')\n",
    "    plt.show()\n",
    "model.eval()\n",
    "all_predicted_train = []\n",
    "all_labels_train = []\n",
    "\n",
    "with torch.no_grad():\n",
    "    for batch_x, batch_y in train_loader:\n",
    "        output = model(batch_x)\n",
    "        _, predicted_train = torch.max(output.data, 1)\n",
    "        all_predicted_train.extend(predicted_train.cpu().numpy())\n",
    "        all_labels_train.extend(batch_y.cpu().numpy())\n",
    "\n",
    "classes = range(output_size)\n",
    "conf_matrix_train = confusion_matrix(all_labels_train, all_predicted_train)\n",
    "plot_confusion_matrix(conf_matrix_train, classes, title='Training Confusion Matrix')\n",
    "model.eval()\n",
    "all_predicted_test = []\n",
    "all_labels_test = []\n",
    "\n",
    "with torch.no_grad():\n",
    "    for batch_x, batch_y in test_loader:\n",
    "        output = model(batch_x)\n",
    "        _, predicted_test = torch.max(output.data, 1)\n",
    "        all_predicted_test.extend(predicted_test.cpu().numpy())\n",
    "        all_labels_test.extend(batch_y.cpu().numpy())\n",
    "\n",
    "conf_matrix_test = confusion_matrix(all_labels_test, all_predicted_test)\n",
    "plot_confusion_matrix(conf_matrix_test, classes, title='Testing Confusion Matrix')"
   ]
  },
  {
   "cell_type": "markdown",
   "id": "0a165cf2",
   "metadata": {},
   "source": [
    "# USING TFID VECTORIZER "
   ]
  },
  {
   "cell_type": "code",
   "execution_count": 58,
   "id": "1c3c63a1",
   "metadata": {},
   "outputs": [],
   "source": [
    "twitter_df[\"tweet\"]\n",
    "from sklearn.feature_extraction.text import TfidfVectorizer\n",
    "tweets = twitter_df[\"tweet\"]\n",
    "vectorizer = TfidfVectorizer(stop_words='english')\n",
    "tfidf_matrix = vectorizer.fit_transform(tweets)\n",
    "tfidf_df = pd.DataFrame(tfidf_matrix.toarray(), columns=vectorizer.get_feature_names_out())\n",
    "y = twitter_df['labels_encoded']\n",
    "X_train, X_test, y_train, y_test = train_test_split(tfidf_matrix, y, test_size=0.1, random_state=43)"
   ]
  },
  {
   "cell_type": "code",
   "execution_count": 59,
   "id": "7416d935",
   "metadata": {},
   "outputs": [],
   "source": [
    "X_train_tensor = torch.sparse.FloatTensor(torch.LongTensor(X_train.nonzero()), torch.FloatTensor(X_train.data), X_train.shape)\n",
    "X_test_tensor = torch.sparse.FloatTensor(torch.LongTensor(X_test.nonzero()), torch.FloatTensor(X_test.data), X_test.shape)\n",
    "y_train_tensor = torch.tensor(y_train.values, dtype=torch.float32)\n",
    "y_test_tensor = torch.tensor(y_test.values, dtype=torch.float32)"
   ]
  },
  {
   "cell_type": "code",
   "execution_count": 60,
   "id": "da8b7804",
   "metadata": {},
   "outputs": [
    {
     "data": {
      "text/plain": [
       "torch.Size([22304, 35573])"
      ]
     },
     "execution_count": 60,
     "metadata": {},
     "output_type": "execute_result"
    }
   ],
   "source": [
    "X_train_tensor.shape"
   ]
  },
  {
   "cell_type": "code",
   "execution_count": 61,
   "id": "47249818",
   "metadata": {},
   "outputs": [],
   "source": [
    "batch_size = 64\n",
    "trainloader = DataLoader(train_dataset, batch_size=batch_size, shuffle=True)\n",
    "testloader = DataLoader(test_dataset, batch_size=batch_size, shuffle=False)"
   ]
  },
  {
   "cell_type": "code",
   "execution_count": 62,
   "id": "fcb10c90",
   "metadata": {},
   "outputs": [],
   "source": [
    "model = RNNModel(768, 64, 32, 3)\n"
   ]
  },
  {
   "cell_type": "code",
   "execution_count": 63,
   "id": "f2ed7bc7",
   "metadata": {},
   "outputs": [
    {
     "name": "stdout",
     "output_type": "stream",
     "text": [
      "Epoch [1/10], Loss: 0.4486, Training Accuracy: 84.06%, Testing Accuracy: 87.41%, Epoch Time: 5.1562 seconds\n",
      "Epoch [2/10], Loss: 0.3641, Training Accuracy: 86.83%, Testing Accuracy: 87.98%, Epoch Time: 6.2828 seconds\n",
      "Epoch [3/10], Loss: 0.3450, Training Accuracy: 87.27%, Testing Accuracy: 87.74%, Epoch Time: 7.5947 seconds\n",
      "Epoch [4/10], Loss: 0.3335, Training Accuracy: 87.70%, Testing Accuracy: 87.25%, Epoch Time: 7.2654 seconds\n",
      "Epoch [5/10], Loss: 0.3260, Training Accuracy: 87.85%, Testing Accuracy: 88.66%, Epoch Time: 7.6377 seconds\n",
      "Epoch [6/10], Loss: 0.3195, Training Accuracy: 88.08%, Testing Accuracy: 86.85%, Epoch Time: 7.6879 seconds\n",
      "Epoch [7/10], Loss: 0.3111, Training Accuracy: 88.46%, Testing Accuracy: 88.75%, Epoch Time: 7.3139 seconds\n",
      "Epoch [8/10], Loss: 0.3037, Training Accuracy: 88.68%, Testing Accuracy: 88.06%, Epoch Time: 7.8329 seconds\n",
      "Epoch [9/10], Loss: 0.2976, Training Accuracy: 88.77%, Testing Accuracy: 87.94%, Epoch Time: 6.9598 seconds\n",
      "Epoch [10/10], Loss: 0.2905, Training Accuracy: 89.15%, Testing Accuracy: 87.86%, Epoch Time: 6.6540 seconds\n",
      "Training complete.\n"
     ]
    }
   ],
   "source": [
    "import torch.optim as optim\n",
    "import torch.nn as nn\n",
    "import time\n",
    "\n",
    "num_epochs = 10\n",
    "criterion = nn.CrossEntropyLoss()\n",
    "optimizer = optim.Adam(model.parameters(), lr=0.001)\n",
    "\n",
    "tfidf_train_accuracy_list = []\n",
    "tfidf_test_accuracy_list = []\n",
    "tfidf_execution_times = []\n",
    "\n",
    "for epoch in range(num_epochs):\n",
    "    start_time = time.time()\n",
    "\n",
    "    model.train() \n",
    "    total_loss = 0\n",
    "    correct_train = 0\n",
    "    total_train = 0\n",
    "\n",
    "    for batch_x, batch_y in train_loader:\n",
    "        optimizer.zero_grad()  \n",
    "        output = model(batch_x) \n",
    "        loss = criterion(output, batch_y)  \n",
    "        loss.backward()  \n",
    "        optimizer.step()  \n",
    "\n",
    "        total_loss += loss.item()\n",
    "\n",
    "        _, predicted_train = torch.max(output.data, 1)\n",
    "        total_train += batch_y.size(0)\n",
    "        correct_train += (predicted_train == batch_y).sum().item()\n",
    "\n",
    "    average_loss = total_loss / len(train_loader)\n",
    "    training_accuracy = correct_train / total_train\n",
    "    \n",
    "    model.eval()  \n",
    "    correct_test = 0\n",
    "    total_test = 0\n",
    "\n",
    "    with torch.no_grad():\n",
    "        for batch_x, batch_y in test_loader:\n",
    "            output = model(batch_x)\n",
    "            _, predicted_test = torch.max(output.data, 1)\n",
    "            total_test += batch_y.size(0)\n",
    "            correct_test += (predicted_test == batch_y).sum().item()\n",
    "\n",
    "    testing_accuracy = correct_test / total_test\n",
    "\n",
    "    tfidf_train_accuracy_list.append(training_accuracy)\n",
    "    tfidf_test_accuracy_list.append(testing_accuracy)\n",
    "\n",
    "    end_time = time.time()\n",
    "    epoch_execution_time = end_time - start_time\n",
    "    tfidf_execution_times.append(epoch_execution_time)\n",
    "\n",
    "    print(f'Epoch [{epoch + 1}/{num_epochs}], Loss: {average_loss:.4f}, Training Accuracy: {training_accuracy * 100:.2f}%, Testing Accuracy: {testing_accuracy * 100:.2f}%, Epoch Time: {epoch_execution_time:.4f} seconds')\n",
    "\n",
    "print('Training complete.')"
   ]
  },
  {
   "cell_type": "code",
   "execution_count": 64,
   "id": "dcdf28d9",
   "metadata": {},
   "outputs": [
    {
     "data": {
      "image/png": "[encoded data removed]",
      "text/plain": [
       "<Figure size 432x288 with 1 Axes>"
      ]
     },
     "metadata": {
      "needs_background": "light"
     },
     "output_type": "display_data"
    }
   ],
   "source": [
    "import matplotlib.pyplot as plt\n",
    "epochs = range(1, num_epochs + 1)\n",
    "plt.plot(epochs, train_accuracies_list, label='Training Accuracy')\n",
    "plt.plot(epochs, test_accuracies_list, label='Testing Accuracy')\n",
    "plt.title('Training and Testing Accuracies Over Epochs')\n",
    "plt.xlabel('Epoch')\n",
    "plt.ylabel('Accuracy')\n",
    "plt.legend()\n",
    "plt.show()"
   ]
  },
  {
   "cell_type": "code",
   "execution_count": 65,
   "id": "db533fe5",
   "metadata": {},
   "outputs": [
    {
     "name": "stdout",
     "output_type": "stream",
     "text": [
      "Confusion Matrix:\n",
      "[[  20    5  117]\n",
      " [   2  286  128]\n",
      " [  11   38 1872]]\n",
      "\n",
      "Classification Report:\n",
      "              precision    recall  f1-score   support\n",
      "\n",
      "           0       0.61      0.14      0.23       142\n",
      "           1       0.87      0.69      0.77       416\n",
      "           2       0.88      0.97      0.93      1921\n",
      "\n",
      "    accuracy                           0.88      2479\n",
      "   macro avg       0.79      0.60      0.64      2479\n",
      "weighted avg       0.87      0.88      0.86      2479\n",
      "\n"
     ]
    }
   ],
   "source": [
    "from sklearn.metrics import confusion_matrix, classification_report\n",
    "model.eval()\n",
    "all_predictions = []\n",
    "all_labels = []\n",
    "with torch.no_grad():\n",
    "    for batch_x, batch_y in test_loader:\n",
    "        output = model(batch_x)\n",
    "        _, predicted = torch.max(output, 1)\n",
    "        all_predictions.extend(predicted.cpu().numpy())\n",
    "        all_labels.extend(batch_y.cpu().numpy())\n",
    "\n",
    "conf_matrix = confusion_matrix(all_labels, all_predictions)\n",
    "class_report = classification_report(all_labels, all_predictions)\n",
    "\n",
    "print(\"Confusion Matrix:\")\n",
    "print(conf_matrix)\n",
    "\n",
    "print(\"\\nClassification Report:\")\n",
    "print(class_report)"
   ]
  },
  {
   "cell_type": "markdown",
   "id": "3fbd706e",
   "metadata": {},
   "source": [
    "# using count vectorizer"
   ]
  },
  {
   "cell_type": "code",
   "execution_count": 66,
   "id": "89395852",
   "metadata": {},
   "outputs": [],
   "source": [
    "from sklearn.feature_extraction.text import CountVectorizer\n",
    "from sklearn.model_selection import train_test_split\n",
    "import pandas as pd\n",
    "from torch.utils.data import TensorDataset, DataLoader\n",
    "import torch\n",
    "\n",
    "tweets = twitter_df[\"tweet\"]\n",
    "y = twitter_df['labels_encoded']\n",
    "vectorizer = CountVectorizer(stop_words='english')\n",
    "X_bow = vectorizer.fit_transform(tweets)\n",
    "X_train, X_test, y_train, y_test = train_test_split(X_bow, y, test_size=0.1, random_state=43)\n",
    "X_train_tensor = torch.sparse.FloatTensor(torch.LongTensor(X_train.nonzero()), torch.FloatTensor(X_train.data), X_train.shape)\n",
    "X_test_tensor = torch.sparse.FloatTensor(torch.LongTensor(X_test.nonzero()), torch.FloatTensor(X_test.data), X_test.shape)\n",
    "train_dataset = TensorDataset(X_train_tensor, torch.tensor(y_train.values, dtype=torch.float32))\n",
    "test_dataset = TensorDataset(X_test_tensor, torch.tensor(y_test.values, dtype=torch.float32))\n",
    "batch_size = 64\n",
    "trainloader = DataLoader(train_dataset, batch_size=batch_size, shuffle=True)\n",
    "testloader = DataLoader(test_dataset, batch_size=batch_size, shuffle=False)"
   ]
  },
  {
   "cell_type": "code",
   "execution_count": 67,
   "id": "92fec41e",
   "metadata": {},
   "outputs": [],
   "source": [
    "class RNNModel(nn.Module):\n",
    "    def __init__(self, input_size, hidden_size1, hidden_size2, output_size):\n",
    "        super(RNNModel, self).__init__()\n",
    "        self.rnn1 = nn.RNN(input_size, hidden_size1, batch_first=True)\n",
    "        self.rnn2 = nn.RNN(hidden_size1, hidden_size2, batch_first=True)\n",
    "        self.fc = nn.Linear(hidden_size2, output_size)\n",
    "\n",
    "    def forward(self, x):\n",
    "        out, hidden1 = self.rnn1(x)\n",
    "        out, hidden2 = self.rnn2(out)\n",
    "        out = self.fc(out)\n",
    "        return out"
   ]
  },
  {
   "cell_type": "code",
   "execution_count": 69,
   "id": "12880eb3",
   "metadata": {},
   "outputs": [
    {
     "name": "stdout",
     "output_type": "stream",
     "text": [
      "Epoch [1/10], Training Accuracy: 0.3301, Testing Accuracy: 0.3276, Epoch Time: 23.5660 seconds\n",
      "Epoch [2/10], Training Accuracy: 0.3268, Testing Accuracy: 0.3276, Epoch Time: 21.9462 seconds\n",
      "Epoch [3/10], Training Accuracy: 0.3319, Testing Accuracy: 0.3276, Epoch Time: 27.8437 seconds\n",
      "Epoch [4/10], Training Accuracy: 0.3262, Testing Accuracy: 0.3276, Epoch Time: 27.3863 seconds\n",
      "Epoch [5/10], Training Accuracy: 0.3279, Testing Accuracy: 0.3276, Epoch Time: 23.2023 seconds\n",
      "Epoch [6/10], Training Accuracy: 0.3248, Testing Accuracy: 0.3276, Epoch Time: 28.3924 seconds\n",
      "Epoch [7/10], Training Accuracy: 0.3289, Testing Accuracy: 0.3276, Epoch Time: 24.7476 seconds\n",
      "Epoch [8/10], Training Accuracy: 0.3273, Testing Accuracy: 0.3276, Epoch Time: 24.1367 seconds\n",
      "Epoch [9/10], Training Accuracy: 0.3268, Testing Accuracy: 0.3276, Epoch Time: 27.5040 seconds\n",
      "Epoch [10/10], Training Accuracy: 0.3286, Testing Accuracy: 0.3276, Epoch Time: 26.0225 seconds\n",
      "Training complete!\n"
     ]
    }
   ],
   "source": [
    "import torch.optim as optim\n",
    "import torch.nn as nn\n",
    "import time\n",
    "\n",
    "model = RNNModel(35573, 64, 32, 3)\n",
    "count_time = []  \n",
    "count_train_accuracy = []  \n",
    "count_test_accuracy = [] \n",
    "\n",
    "num_epochs = 10\n",
    "for epoch in range(num_epochs):\n",
    "    start_time = time.time()  \n",
    "\n",
    "    model.train() \n",
    "    total_train_correct = 0\n",
    "    total_train_samples = 0\n",
    "\n",
    "    for batch_x, batch_y in trainloader:\n",
    "        optimizer.zero_grad()  \n",
    "        \n",
    "        dense_x = batch_x.to_dense()\n",
    "\n",
    "        output = model(dense_x)  \n",
    "\n",
    "       \n",
    "        loss = criterion(output.squeeze(), batch_y.long())\n",
    "        loss.backward()\n",
    "        optimizer.step()\n",
    "\n",
    "        # Update training accuracy\n",
    "        _, predicted = torch.max(output, 1)\n",
    "        total_train_correct += (predicted == batch_y).sum().item()\n",
    "        total_train_samples += batch_y.size(0)\n",
    "\n",
    "    train_accuracy = total_train_correct / total_train_samples\n",
    "    count_train_accuracy.append(train_accuracy)\n",
    "\n",
    "    model.eval() \n",
    "    total_test_correct = 0\n",
    "    total_test_samples = 0\n",
    "\n",
    "    with torch.no_grad():  \n",
    "        for batch_x, batch_y in testloader:\n",
    "            dense_x_test = batch_x.to_dense()\n",
    "\n",
    "            output = model(dense_x_test)  \n",
    "\n",
    "            # Update testing accuracy\n",
    "            _, predicted_test = torch.max(output.data, 1)\n",
    "            total_test_correct += (predicted_test == batch_y).sum().item()\n",
    "            total_test_samples += batch_y.size(0)\n",
    "\n",
    "    test_accuracy = total_test_correct / total_test_samples\n",
    "    count_test_accuracy.append(test_accuracy)\n",
    "\n",
    "    end_time = time.time()  \n",
    "    epoch_execution_time = end_time - start_time\n",
    "    count_time.append(epoch_execution_time) \n",
    "\n",
    "    print(f'Epoch [{epoch + 1}/{num_epochs}], 'f'Training Accuracy: {train_accuracy:.4f}, 'f'Testing Accuracy: {test_accuracy:.4f}, '\n",
    "          f'Epoch Time: {epoch_execution_time:.4f} seconds')\n",
    "print('Training complete!')"
   ]
  },
  {
   "cell_type": "code",
   "execution_count": 73,
   "id": "f7f69fb8",
   "metadata": {
    "scrolled": true
   },
   "outputs": [
    {
     "data": {
      "image/png": "[encoded data removed]",
      "text/plain": [
       "<Figure size 432x288 with 1 Axes>"
      ]
     },
     "metadata": {
      "needs_background": "light"
     },
     "output_type": "display_data"
    }
   ],
   "source": [
    "epochs = range(1, num_epochs + 1)\n",
    "plt.plot(epochs, count_time, label='Count Vectorizer')\n",
    "plt.plot(epochs, tfidf_execution_times, label='TF-IDF Vectorizer')\n",
    "plt.plot(epochs, epoch_execution_times, label='Bert (or any other encoding)')\n",
    "plt.xlabel('Epochs')\n",
    "plt.ylabel('Execution Time (seconds)')\n",
    "plt.title('Comparison of Execution Times for Different Encoding Methods')\n",
    "plt.legend()\n",
    "plt.show()"
   ]
  },
  {
   "cell_type": "code",
   "execution_count": 75,
   "id": "39578589",
   "metadata": {},
   "outputs": [
    {
     "data": {
      "image/png": "[encoded data removed]",
      "text/plain": [
       "<Figure size 864x432 with 2 Axes>"
      ]
     },
     "metadata": {
      "needs_background": "light"
     },
     "output_type": "display_data"
    }
   ],
   "source": [
    "import matplotlib.pyplot as plt\n",
    "\n",
    "epochs = range(1, num_epochs + 1)\n",
    "plt.figure(figsize=(12, 6))\n",
    "plt.subplot(1, 2, 1)\n",
    "plt.plot(epochs, train_accuracies, label='Bert Training Accuracy')\n",
    "plt.plot(epochs, tfidf_train_accuracy_list, label='TF-IDF Training Accuracy')\n",
    "plt.plot(epochs, count_train_accuracy, label='Count Training Accuracy')\n",
    "plt.xlabel('Epochs')\n",
    "plt.ylabel('Training Accuracy')\n",
    "plt.title('Comparison of Training Accuracy per Epochs')\n",
    "plt.legend()\n",
    "plt.subplot(1, 2, 2)\n",
    "plt.plot(epochs, test_accuracies, label='Bert Testing Accuracy')\n",
    "plt.plot(epochs, tfidf_test_accuracy_list, label='TF-IDF Testing Accuracy')\n",
    "plt.plot(epochs, count_test_accuracy, label='Count Testing Accuracy')\n",
    "plt.xlabel('Epochs')\n",
    "plt.ylabel('Testing Accuracy')\n",
    "plt.title('Comparison of Testing Accuracy per Epochs')\n",
    "plt.legend()\n",
    "plt.tight_layout()\n",
    "plt.show()"
   ]
  },
  {
   "cell_type": "code",
   "execution_count": null,
   "id": "8e28ef55",
   "metadata": {},
   "outputs": [],
   "source": []
  },
  {
   "cell_type": "code",
   "execution_count": null,
   "id": "d042922f",
   "metadata": {},
   "outputs": [],
   "source": []
  },
  {
   "cell_type": "code",
   "execution_count": null,
   "id": "141d1ddc",
   "metadata": {},
   "outputs": [],
   "source": []
  },
  {
   "cell_type": "code",
   "execution_count": 76,
   "id": "6b986484",
   "metadata": {},
   "outputs": [
    {
     "data": {
      "text/html": [
       "<div>\n",
       "<style scoped>\n",
       "    .dataframe tbody tr th:only-of-type {\n",
       "        vertical-align: middle;\n",
       "    }\n",
       "\n",
       "    .dataframe tbody tr th {\n",
       "        vertical-align: top;\n",
       "    }\n",
       "\n",
       "    .dataframe thead th {\n",
       "        text-align: right;\n",
       "    }\n",
       "</style>\n",
       "<table border=\"1\" class=\"dataframe\">\n",
       "  <thead>\n",
       "    <tr style=\"text-align: right;\">\n",
       "      <th></th>\n",
       "      <th>embeddings</th>\n",
       "      <th>labels_encoded</th>\n",
       "    </tr>\n",
       "  </thead>\n",
       "  <tbody>\n",
       "    <tr>\n",
       "      <th>0</th>\n",
       "      <td>[[tensor(0.2095), tensor(0.2316), tensor(0.492...</td>\n",
       "      <td>1</td>\n",
       "    </tr>\n",
       "    <tr>\n",
       "      <th>1</th>\n",
       "      <td>[[tensor(-0.0849), tensor(0.0519), tensor(0.68...</td>\n",
       "      <td>2</td>\n",
       "    </tr>\n",
       "    <tr>\n",
       "      <th>2</th>\n",
       "      <td>[[tensor(0.3709), tensor(0.3706), tensor(0.621...</td>\n",
       "      <td>2</td>\n",
       "    </tr>\n",
       "    <tr>\n",
       "      <th>3</th>\n",
       "      <td>[[tensor(0.4781), tensor(0.0631), tensor(0.642...</td>\n",
       "      <td>2</td>\n",
       "    </tr>\n",
       "    <tr>\n",
       "      <th>4</th>\n",
       "      <td>[[tensor(0.3976), tensor(0.1870), tensor(0.605...</td>\n",
       "      <td>2</td>\n",
       "    </tr>\n",
       "    <tr>\n",
       "      <th>...</th>\n",
       "      <td>...</td>\n",
       "      <td>...</td>\n",
       "    </tr>\n",
       "    <tr>\n",
       "      <th>24778</th>\n",
       "      <td>[[tensor(0.4247), tensor(0.2765), tensor(0.517...</td>\n",
       "      <td>2</td>\n",
       "    </tr>\n",
       "    <tr>\n",
       "      <th>24779</th>\n",
       "      <td>[[tensor(0.2655), tensor(-0.0583), tensor(-0.1...</td>\n",
       "      <td>1</td>\n",
       "    </tr>\n",
       "    <tr>\n",
       "      <th>24780</th>\n",
       "      <td>[[tensor(0.0799), tensor(0.1272), tensor(0.783...</td>\n",
       "      <td>2</td>\n",
       "    </tr>\n",
       "    <tr>\n",
       "      <th>24781</th>\n",
       "      <td>[[tensor(0.4994), tensor(0.4589), tensor(0.205...</td>\n",
       "      <td>2</td>\n",
       "    </tr>\n",
       "    <tr>\n",
       "      <th>24782</th>\n",
       "      <td>[[tensor(0.0277), tensor(-0.1341), tensor(0.54...</td>\n",
       "      <td>1</td>\n",
       "    </tr>\n",
       "  </tbody>\n",
       "</table>\n",
       "<p>24783 rows × 2 columns</p>\n",
       "</div>"
      ],
      "text/plain": [
       "                                              embeddings  labels_encoded\n",
       "0      [[tensor(0.2095), tensor(0.2316), tensor(0.492...               1\n",
       "1      [[tensor(-0.0849), tensor(0.0519), tensor(0.68...               2\n",
       "2      [[tensor(0.3709), tensor(0.3706), tensor(0.621...               2\n",
       "3      [[tensor(0.4781), tensor(0.0631), tensor(0.642...               2\n",
       "4      [[tensor(0.3976), tensor(0.1870), tensor(0.605...               2\n",
       "...                                                  ...             ...\n",
       "24778  [[tensor(0.4247), tensor(0.2765), tensor(0.517...               2\n",
       "24779  [[tensor(0.2655), tensor(-0.0583), tensor(-0.1...               1\n",
       "24780  [[tensor(0.0799), tensor(0.1272), tensor(0.783...               2\n",
       "24781  [[tensor(0.4994), tensor(0.4589), tensor(0.205...               2\n",
       "24782  [[tensor(0.0277), tensor(-0.1341), tensor(0.54...               1\n",
       "\n",
       "[24783 rows x 2 columns]"
      ]
     },
     "execution_count": 76,
     "metadata": {},
     "output_type": "execute_result"
    }
   ],
   "source": [
    "twitter_df\n",
    "columns_to_show = [\"embeddings\", \"labels_encoded\"]\n",
    "twitter_df[columns_to_show]"
   ]
  },
  {
   "cell_type": "code",
   "execution_count": 77,
   "id": "49575549",
   "metadata": {},
   "outputs": [
    {
     "name": "stderr",
     "output_type": "stream",
     "text": [
      "Some weights of the model checkpoint at bert-base-uncased were not used when initializing BertModel: ['cls.predictions.transform.LayerNorm.weight', 'cls.predictions.transform.dense.weight', 'cls.seq_relationship.bias', 'cls.seq_relationship.weight', 'cls.predictions.decoder.weight', 'cls.predictions.bias', 'cls.predictions.transform.dense.bias', 'cls.predictions.transform.LayerNorm.bias']\n",
      "- This IS expected if you are initializing BertModel from the checkpoint of a model trained on another task or with another architecture (e.g. initializing a BertForSequenceClassification model from a BertForPreTraining model).\n",
      "- This IS NOT expected if you are initializing BertModel from the checkpoint of a model that you expect to be exactly identical (initializing a BertForSequenceClassification model from a BertForSequenceClassification model).\n"
     ]
    }
   ],
   "source": [
    "from transformers import BertTokenizer, BertModel\n",
    "\n",
    "tokenizer = BertTokenizer.from_pretrained('bert-base-uncased')\n",
    "model = BertModel.from_pretrained('bert-base-uncased')\n",
    "text = \"!!! RT @mayasolovely: As a woman you shouldn't complain about cleaning up your house. &amp; as a man you should always take the trash out...\"\n",
    "tokens = tokenizer.encode(text, add_special_tokens=True)\n",
    "import torch\n",
    "tokens_tensor = torch.tensor([tokens])\n",
    "\n",
    "with torch.no_grad():\n",
    "    outputs = model(tokens_tensor)"
   ]
  },
  {
   "cell_type": "code",
   "execution_count": 78,
   "id": "326f4c09",
   "metadata": {},
   "outputs": [
    {
     "name": "stderr",
     "output_type": "stream",
     "text": [
      "Some weights of the model checkpoint at bert-base-uncased were not used when initializing BertModel: ['cls.predictions.transform.LayerNorm.weight', 'cls.predictions.transform.dense.weight', 'cls.seq_relationship.bias', 'cls.seq_relationship.weight', 'cls.predictions.decoder.weight', 'cls.predictions.bias', 'cls.predictions.transform.dense.bias', 'cls.predictions.transform.LayerNorm.bias']\n",
      "- This IS expected if you are initializing BertModel from the checkpoint of a model trained on another task or with another architecture (e.g. initializing a BertForSequenceClassification model from a BertForPreTraining model).\n",
      "- This IS NOT expected if you are initializing BertModel from the checkpoint of a model that you expect to be exactly identical (initializing a BertForSequenceClassification model from a BertForSequenceClassification model).\n"
     ]
    },
    {
     "name": "stdout",
     "output_type": "stream",
     "text": [
      "Predicted class: Offensive Language\n"
     ]
    }
   ],
   "source": [
    "from transformers import BertTokenizer, BertModel\n",
    "import torch\n",
    "\n",
    "def predict_text_class(text):\n",
    "    tokenizer = BertTokenizer.from_pretrained('bert-base-uncased')\n",
    "    model = BertModel.from_pretrained('bert-base-uncased')\n",
    "\n",
    "    tokens = tokenizer.encode(text, add_special_tokens=True)\n",
    "    tokens_tensor = torch.tensor([tokens])\n",
    "\n",
    "    with torch.no_grad():\n",
    "        outputs = model(tokens_tensor)\n",
    "\n",
    "    classification_layer = torch.nn.Linear(model.config.hidden_size, 3)\n",
    "    logits = classification_layer(outputs.last_hidden_state[:, 0, :])\n",
    "    probs = torch.nn.functional.softmax(logits, dim=-1)\n",
    "    _, predicted_class = torch.max(probs, 1)\n",
    "\n",
    "    class_labels = ['No Hate and Offensive', 'Offensive Language', 'Hate Speech']\n",
    "    return f\"Predicted class: {class_labels[predicted_class.item()]}\"\n",
    "\n",
    "text = '!!!!!!!!!!!!!!!!!!\"@T_Madison_x: The shit just blows me..claim you so faithful and down for somebody but still fucking with hoes! &#128514;&#128514;&#128514;\"'\n",
    "prediction = predict_text_class(text)\n",
    "print(prediction)"
   ]
  },
  {
   "cell_type": "code",
   "execution_count": 105,
   "id": "156266c6",
   "metadata": {},
   "outputs": [
    {
     "data": {
      "text/plain": [
       "'!!!!!!\"@__BrighterDays: I can not just sit up and HATE on another bitch .. I got too much shit going on!\"'"
      ]
     },
     "execution_count": 105,
     "metadata": {},
     "output_type": "execute_result"
    }
   ],
   "source": [
    "twitter_df[\"tweet\"][6]"
   ]
  },
  {
   "cell_type": "code",
   "execution_count": null,
   "id": "88803e42",
   "metadata": {},
   "outputs": [
    {
     "name": "stdout",
     "output_type": "stream",
     "text": [
      " * Serving Flask app \"__main__\" (lazy loading)\n",
      " * Environment: production\n",
      "\u001b[31m   WARNING: This is a development server. Do not use it in a production deployment.\u001b[0m\n",
      "\u001b[2m   Use a production WSGI server instead.\u001b[0m\n",
      " * Debug mode: on\n"
     ]
    },
    {
     "name": "stderr",
     "output_type": "stream",
     "text": [
      " * Running on http://127.0.0.1:5000/ (Press CTRL+C to quit)\n",
      "127.0.0.1 - - [07/Dec/2023 11:29:05] \"GET / HTTP/1.1\" 200 -\n",
      "127.0.0.1 - - [07/Dec/2023 11:29:05] \"GET /favicon.ico HTTP/1.1\" 404 -\n",
      "Some weights of the model checkpoint at bert-base-uncased were not used when initializing BertModel: ['cls.seq_relationship.bias', 'cls.predictions.decoder.weight', 'cls.predictions.transform.LayerNorm.weight', 'cls.seq_relationship.weight', 'cls.predictions.bias', 'cls.predictions.transform.dense.weight', 'cls.predictions.transform.LayerNorm.bias', 'cls.predictions.transform.dense.bias']\n",
      "- This IS expected if you are initializing BertModel from the checkpoint of a model trained on another task or with another architecture (e.g. initializing a BertForSequenceClassification model from a BertForPreTraining model).\n",
      "- This IS NOT expected if you are initializing BertModel from the checkpoint of a model that you expect to be exactly identical (initializing a BertForSequenceClassification model from a BertForSequenceClassification model).\n",
      "127.0.0.1 - - [07/Dec/2023 11:31:25] \"POST / HTTP/1.1\" 200 -\n",
      "Some weights of the model checkpoint at bert-base-uncased were not used when initializing BertModel: ['cls.seq_relationship.bias', 'cls.predictions.decoder.weight', 'cls.predictions.transform.LayerNorm.weight', 'cls.seq_relationship.weight', 'cls.predictions.bias', 'cls.predictions.transform.dense.weight', 'cls.predictions.transform.LayerNorm.bias', 'cls.predictions.transform.dense.bias']\n",
      "- This IS expected if you are initializing BertModel from the checkpoint of a model trained on another task or with another architecture (e.g. initializing a BertForSequenceClassification model from a BertForPreTraining model).\n",
      "- This IS NOT expected if you are initializing BertModel from the checkpoint of a model that you expect to be exactly identical (initializing a BertForSequenceClassification model from a BertForSequenceClassification model).\n",
      "127.0.0.1 - - [07/Dec/2023 11:38:09] \"POST / HTTP/1.1\" 200 -\n"
     ]
    }
   ],
   "source": [
    "from flask import Flask, render_template, request\n",
    "from transformers import BertTokenizer, BertModel\n",
    "import torch\n",
    "app = Flask(__name__)\n",
    "\n",
    "def predict_text_class(text):\n",
    "    tokenizer = BertTokenizer.from_pretrained('bert-base-uncased')\n",
    "    model = BertModel.from_pretrained('bert-base-uncased')\n",
    "\n",
    "    tokens = tokenizer.encode(text, add_special_tokens=True)\n",
    "    tokens_tensor = torch.tensor([tokens])\n",
    "\n",
    "    with torch.no_grad():\n",
    "        outputs = model(tokens_tensor)\n",
    "\n",
    "    classification_layer = torch.nn.Linear(model.config.hidden_size, 3)\n",
    "    logits = classification_layer(outputs.last_hidden_state[:, 0, :])\n",
    "    probs = torch.nn.functional.softmax(logits, dim=-1)\n",
    "    _, predicted_class = torch.max(probs, 1)\n",
    "\n",
    "    class_labels = ['No Hate and Offensive', 'Offensive Language', 'Hate Speech']\n",
    "    return class_labels[predicted_class.item()]\n",
    "\n",
    "@app.route('/', methods=['GET', 'POST'])\n",
    "def index():\n",
    "    prediction = None\n",
    "    if request.method == 'POST':\n",
    "        text = request.form['text']\n",
    "        prediction = predict_text_class(text)\n",
    "\n",
    "    response_html = f'''\n",
    "    <!DOCTYPE html>\n",
    "    <html lang=\"en\">\n",
    "    <head>\n",
    "        <meta charset=\"UTF-8\">\n",
    "        <meta name=\"viewport\" content=\"width=device-width, initial-scale=1.0\">\n",
    "        <title>Twitter Classification App!</title>\n",
    "        <!-- Add Bootstrap CSS link -->\n",
    "        <link href=\"https://stackpath.bootstrapcdn.com/bootstrap/4.3.1/css/bootstrap.min.css\" rel=\"stylesheet\">\n",
    "        <!-- Add custom styles -->\n",
    "        <style>\n",
    "            body {{\n",
    "                background: linear-gradient(45deg, #3498db, #e74c3c); /* Gradient background */\n",
    "                color: #fff; /* White text */\n",
    "            }}\n",
    "            .container {{\n",
    "                margin-top: 50px;\n",
    "            }}\n",
    "            .logo-img {{\n",
    "                width: 150px; /* Adjust the width as needed */\n",
    "                height: auto;\n",
    "            }}\n",
    "        </style>\n",
    "    </head>\n",
    "    <body>\n",
    "        <div class=\"container\">\n",
    "            <div class=\"text-center\">\n",
    "                \n",
    "            </div>\n",
    "            <h1 class=\"display-4 text-center\"><strong>Text Classification App</strong></h1>\n",
    "            <form method=\"post\">\n",
    "                <div class=\"form-group\">\n",
    "                    <label for=\"text\" class=\"text-white\">Enter Text:</label>\n",
    "                    <textarea class=\"form-control\" name=\"text\" rows=\"8\" required></textarea>\n",
    "                </div>\n",
    "                <button type=\"submit\" class=\"btn btn-primary\">Predict</button>\n",
    "            </form>\n",
    "            {f\"<p class='mt-3 text-white'><strong>Prediction:</strong> {prediction}</p>\" if prediction else \"\"}\n",
    "        </div>\n",
    "        <!-- Add Bootstrap JS and Popper.js scripts -->\n",
    "        <script src=\"https://code.jquery.com/jquery-3.3.1.slim.min.js\"></script>\n",
    "        <script src=\"https://cdnjs.cloudflare.com/ajax/libs/popper.js/1.14.7/umd/popper.min.js\"></script>\n",
    "        <script src=\"https://stackpath.bootstrapcdn.com/bootstrap/4.3.1/js/bootstrap.min.js\"></script>\n",
    "    </body>\n",
    "    </html>\n",
    "    '''\n",
    "\n",
    "    if prediction:\n",
    "        prediction = None\n",
    "\n",
    "    return response_html\n",
    "\n",
    "if __name__ == '__main__':\n",
    "    app.run(debug=True, use_reloader=False)"
   ]
  },
  {
   "cell_type": "code",
   "execution_count": null,
   "id": "cd0dbbb5",
   "metadata": {},
   "outputs": [],
   "source": []
  }
 ],
 "metadata": {
  "kernelspec": {
   "display_name": "Python 3 (ipykernel)",
   "language": "python",
   "name": "python3"
  },
  "language_info": {
   "codemirror_mode": {
    "name": "ipython",
    "version": 3
   },
   "file_extension": ".py",
   "mimetype": "text/x-python",
   "name": "python",
   "nbconvert_exporter": "python",
   "pygments_lexer": "ipython3",
   "version": "3.9.12"
  }
 },
 "nbformat": 4,
 "nbformat_minor": 5
}
